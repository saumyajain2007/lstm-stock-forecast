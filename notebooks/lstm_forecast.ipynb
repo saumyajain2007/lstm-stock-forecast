{
  "cells": [
    {
      "cell_type": "markdown",
      "metadata": {},
      "source": [
        "# LSTM Stock Forecast\n\nThis notebook walks through data loading, preprocessing, model training and forecasting using an LSTM."
      ]
    },
    {
      "cell_type": "code",
      "metadata": {},
      "execution_count": null,
      "outputs": [],
      "source": [
        "from src.data_loader import load_price_history\n",
        "from src.utils import create_sequences, scale_series\n",
        "from src.model import build_lstm, train_model\n",
        "import matplotlib.pyplot as plt\n",
        "symbol = 'AAPL'\n",
        "df = load_price_history(symbol, start='2018-01-01', end='2024-12-31')\n",
        "prices = df['Adj Close'].values\n",
        "scaled, scaler = scale_series(prices)\n",
        "WINDOW = 60\n",
        "X, y = create_sequences(scaled, WINDOW)\n",
        "X = X.reshape((X.shape[0], X.shape[1], 1))\n",
        "from sklearn.model_selection import train_test_split\n",
        "X_train, X_val, y_train, y_val = train_test_split(X, y, test_size=0.2, shuffle=False)\n",
        "model = build_lstm(input_shape=(X.shape[1], X.shape[2]))\n",
        "history = train_model(model, X_train, y_train, X_val, y_val, epochs=10)\n",
        "plt.plot(history.history['loss'], label='loss')\n",
        "plt.plot(history.history['val_loss'], label='val_loss')\n",
        "plt.legend()\n",
        "plt.show()\n"
      ]
    }
  ],
  "metadata": {
    "kernelspec": {
      "display_name": "Python 3",
      "language": "python",
      "name": "python3"
    },
    "language_info": {
      "name": "python",
      "version": "3.10"
    }
  },
  "nbformat": 4,
  "nbformat_minor": 2
}